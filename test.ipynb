{
 "cells": [
  {
   "cell_type": "code",
   "execution_count": null,
   "metadata": {},
   "outputs": [],
   "source": [
    "model = cfg.MODEL\n",
    "model.eval()\n",
    "\n",
    "im = dataset\n",
    "\n",
    "im = resize(im)\n",
    "im = im.half() if model.fp16 else im.float()  # uint8 to fp16/32\n",
    "im = im[None]  # expand for batch dimim = im.permute(2, 0, 1) / 255\n",
    "\n",
    "\n",
    "pred = model(im)\n",
    "pred = non_max_suppression(pred, conf_thres=conf_thres)\n",
    "    \n",
    "c_ = 0\n",
    "res = np.zeros((batch, 80))\n",
    "for i, det in enumerate(pred):\n",
    "    if len(det):\n",
    "        for *xyxy, conf, cls in reversed(det):\n",
    "            c = int(cls)\n",
    "            confidence = float(conf)\n",
    "            if res[c_][c] < confidence:\n",
    "                res[c_][c] = confidence\n",
    "\n",
    "# print(names[np.argmax(res[c_])])\n",
    "return np.argmax(res[c_])"
   ]
  }
 ],
 "metadata": {
  "language_info": {
   "name": "python"
  }
 },
 "nbformat": 4,
 "nbformat_minor": 2
}
